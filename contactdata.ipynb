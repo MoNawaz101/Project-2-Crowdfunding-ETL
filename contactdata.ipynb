{
 "cells": [
  {
   "cell_type": "code",
   "execution_count": null,
   "id": "7d5f607d-b477-43bb-b834-6ecc56856f78",
   "metadata": {},
   "outputs": [],
   "source": [
    "import pandas as pd\n",
    "#Read CSV into pandas dataframe\n",
    "contacts_data = pd.read_csv(r\"C:\\Users\\Kehlani\\OneDrive\\Desktop\\contactsdata.csv\")\n",
    "\n",
    "#view the dataframe\n",
    "contacts_data.head()"
   ]
  },
  {
   "cell_type": "code",
   "execution_count": 1,
   "id": "3aa2f804-6847-4087-8ba0-687fa2aeb354",
   "metadata": {},
   "outputs": [
    {
     "ename": "NameError",
     "evalue": "name 'contact_info_df' is not defined",
     "output_type": "error",
     "traceback": [
      "\u001b[1;31m---------------------------------------------------------------------------\u001b[0m",
      "\u001b[1;31mNameError\u001b[0m                                 Traceback (most recent call last)",
      "Cell \u001b[1;32mIn[1], line 1\u001b[0m\n\u001b[1;32m----> 1\u001b[0m contact_info_df_copy \u001b[38;5;241m=\u001b[39m contact_info_df\u001b[38;5;241m.\u001b[39mcopy()\n\u001b[0;32m      2\u001b[0m contact_info_df_copy\u001b[38;5;241m.\u001b[39mhead()\n",
      "\u001b[1;31mNameError\u001b[0m: name 'contact_info_df' is not defined"
     ]
    }
   ],
   "source": [
    "contact_info_df_copy = contact_info_df.copy()\n",
    "contact_info_df_copy.head()"
   ]
  },
  {
   "cell_type": "code",
   "execution_count": null,
   "id": "512e8870-b630-48a7-a4f2-290f58a465ef",
   "metadata": {},
   "outputs": [],
   "source": []
  }
 ],
 "metadata": {
  "kernelspec": {
   "display_name": "my-python3-kernel",
   "language": "python",
   "name": "my-python3-kernel"
  },
  "language_info": {
   "codemirror_mode": {
    "name": "ipython",
    "version": 3
   },
   "file_extension": ".py",
   "mimetype": "text/x-python",
   "name": "python",
   "nbconvert_exporter": "python",
   "pygments_lexer": "ipython3",
   "version": "3.11.5"
  }
 },
 "nbformat": 4,
 "nbformat_minor": 5
}
